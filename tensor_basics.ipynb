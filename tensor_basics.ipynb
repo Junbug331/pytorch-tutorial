{
 "cells": [
  {
   "cell_type": "code",
   "execution_count": 53,
   "metadata": {},
   "outputs": [],
   "source": [
    "import torch\n",
    "import numpy as np"
   ]
  },
  {
   "cell_type": "code",
   "execution_count": 10,
   "metadata": {},
   "outputs": [
    {
     "name": "stdout",
     "output_type": "stream",
     "text": [
      "tensor([[[[-3.4504e+07,  3.0823e-41, -3.4299e+07],\n",
      "          [ 3.0823e-41,  1.5695e-43,  0.0000e+00]],\n",
      "\n",
      "         [[ 1.5695e-43,  0.0000e+00, -3.4504e+07],\n",
      "          [ 3.0823e-41,  3.4483e+07,  3.0823e-41]]],\n",
      "\n",
      "\n",
      "        [[[ 0.0000e+00,  0.0000e+00,  4.6243e-44],\n",
      "          [ 0.0000e+00,  3.4299e+07,  3.0823e-41]],\n",
      "\n",
      "         [[ 3.9328e+07,  3.0823e-41,  2.0179e-43],\n",
      "          [ 0.0000e+00,  1.1210e-43,  0.0000e+00]]]])\n"
     ]
    }
   ],
   "source": [
    "x = torch.empty(2, 2, 2, 3)\n",
    "\n",
    "print(x)"
   ]
  },
  {
   "cell_type": "code",
   "execution_count": 13,
   "metadata": {},
   "outputs": [
    {
     "name": "stdout",
     "output_type": "stream",
     "text": [
      "tensor([[0.4113, 0.2533],\n",
      "        [0.7020, 0.3234]])\n"
     ]
    }
   ],
   "source": [
    "x = torch.rand(2, 2)\n",
    "print(x)"
   ]
  },
  {
   "cell_type": "code",
   "execution_count": 16,
   "metadata": {},
   "outputs": [
    {
     "name": "stdout",
     "output_type": "stream",
     "text": [
      "tensor([[0., 0.],\n",
      "        [0., 0.]])\n"
     ]
    }
   ],
   "source": [
    "x = torch.zeros(2, 2)\n",
    "print(x)"
   ]
  },
  {
   "cell_type": "code",
   "execution_count": 26,
   "metadata": {},
   "outputs": [
    {
     "name": "stdout",
     "output_type": "stream",
     "text": [
      "torch.float64\n",
      "torch.Size([2, 2])\n"
     ]
    }
   ],
   "source": [
    "x = torch.ones(2, 2, dtype=torch.float64)\n",
    "print(x.dtype)\n",
    "print(x.size())"
   ]
  },
  {
   "cell_type": "code",
   "execution_count": 29,
   "metadata": {},
   "outputs": [
    {
     "name": "stdout",
     "output_type": "stream",
     "text": [
      "tensor([2.5000, 0.1000])\n"
     ]
    }
   ],
   "source": [
    "x = torch.tensor([2.5, 0.1])\n",
    "print(x)"
   ]
  },
  {
   "cell_type": "code",
   "execution_count": 33,
   "metadata": {},
   "outputs": [
    {
     "name": "stdout",
     "output_type": "stream",
     "text": [
      "tensor([[0.4232, 0.6649],\n",
      "        [0.8437, 0.6594]])\n",
      "tensor([[0.0202, 0.1829],\n",
      "        [0.7034, 0.8463]])\n",
      "tensor([[0.4435, 0.8478],\n",
      "        [1.5471, 1.5056]])\n"
     ]
    }
   ],
   "source": [
    "x = torch.rand(2,2)\n",
    "y = torch.rand(2,2)\n",
    "print(x)\n",
    "print(y)\n",
    "\n",
    "z = x + y\n",
    "z = torch.add(x, y)\n",
    "print(z)\n"
   ]
  },
  {
   "cell_type": "code",
   "execution_count": 36,
   "metadata": {},
   "outputs": [
    {
     "name": "stdout",
     "output_type": "stream",
     "text": [
      "tensor([[0.9692, 1.7790],\n",
      "        [0.4295, 1.8063]])\n"
     ]
    }
   ],
   "source": [
    "x = torch.rand(2,2)\n",
    "y = torch.rand(2,2)\n",
    "y.add_(x)\n",
    "print(y)\n"
   ]
  },
  {
   "cell_type": "code",
   "execution_count": 41,
   "metadata": {},
   "outputs": [
    {
     "name": "stdout",
     "output_type": "stream",
     "text": [
      "tensor([[0.0778, 0.4906],\n",
      "        [0.0471, 0.1646]])\n"
     ]
    }
   ],
   "source": [
    "x = torch.rand(2,2)\n",
    "y = torch.rand(2,2)\n",
    "\n",
    "z = x * y\n",
    "z = torch.mul(x, y)\n",
    "print(z)\n",
    "\n"
   ]
  },
  {
   "cell_type": "code",
   "execution_count": 48,
   "metadata": {},
   "outputs": [
    {
     "name": "stdout",
     "output_type": "stream",
     "text": [
      "tensor([[0.7024, 0.0559, 0.8467],\n",
      "        [0.8419, 0.4670, 0.3793],\n",
      "        [0.6873, 0.4338, 0.7789],\n",
      "        [0.4179, 0.5237, 0.3858],\n",
      "        [0.3129, 0.4786, 0.5634]])\n",
      "tensor([0.7024, 0.8419, 0.6873, 0.4179, 0.3129])\n",
      "tensor([0.8419, 0.4670, 0.3793])\n",
      "tensor(0.4670)\n",
      "0.4669743776321411\n"
     ]
    }
   ],
   "source": [
    "x = torch.rand(5, 3)\n",
    "print(x)\n",
    "\n",
    "print(x[:, 0])\n",
    "print(x[1, :])\n",
    "print(x[1, 1])\n",
    "print(x[1, 1].item())"
   ]
  },
  {
   "cell_type": "code",
   "execution_count": 52,
   "metadata": {},
   "outputs": [
    {
     "name": "stdout",
     "output_type": "stream",
     "text": [
      "tensor([[0.4076, 0.7848, 0.5592, 0.9244],\n",
      "        [0.1129, 0.4698, 0.7930, 0.8686],\n",
      "        [0.6667, 0.1331, 0.9652, 0.3915],\n",
      "        [0.7402, 0.7069, 0.6927, 0.4655]])\n",
      "tensor([0.4076, 0.7848, 0.5592, 0.9244, 0.1129, 0.4698, 0.7930, 0.8686, 0.6667,\n",
      "        0.1331, 0.9652, 0.3915, 0.7402, 0.7069, 0.6927, 0.4655])\n",
      "tensor([[0.4076, 0.7848, 0.5592, 0.9244, 0.1129, 0.4698, 0.7930, 0.8686],\n",
      "        [0.6667, 0.1331, 0.9652, 0.3915, 0.7402, 0.7069, 0.6927, 0.4655]])\n"
     ]
    }
   ],
   "source": [
    "x = torch.rand(4,4)\n",
    "print(x)\n",
    "\n",
    "y = x.view(16)\n",
    "print(y)\n",
    "\n",
    "y = x.view(-1, 8)\n",
    "print(y)"
   ]
  },
  {
   "cell_type": "code",
   "execution_count": 58,
   "metadata": {},
   "outputs": [
    {
     "name": "stdout",
     "output_type": "stream",
     "text": [
      "tensor([1., 1., 1., 1., 1.])\n",
      "<class 'numpy.ndarray'>\n",
      "tensor([2., 2., 2., 2., 2.])\n",
      "[2. 2. 2. 2. 2.]\n"
     ]
    }
   ],
   "source": [
    "a = torch.ones(5)\n",
    "print(a)\n",
    "b = a.numpy()\n",
    "print(type(b))\n",
    "\n",
    "a.add_(1)\n",
    "print(a)\n",
    "print(b)"
   ]
  },
  {
   "cell_type": "code",
   "execution_count": 61,
   "metadata": {},
   "outputs": [
    {
     "name": "stdout",
     "output_type": "stream",
     "text": [
      "[1. 1. 1. 1. 1.]\n",
      "tensor([1., 1., 1., 1., 1.], dtype=torch.float64)\n",
      "[2. 2. 2. 2. 2.]\n",
      "tensor([2., 2., 2., 2., 2.], dtype=torch.float64)\n"
     ]
    }
   ],
   "source": [
    "a = np.ones(5)\n",
    "print(a)\n",
    "b = torch.from_numpy(a)\n",
    "print(b)\n",
    "\n",
    "a += 1\n",
    "print(a)\n",
    "print(b)"
   ]
  },
  {
   "cell_type": "code",
   "execution_count": 65,
   "metadata": {},
   "outputs": [
    {
     "name": "stdout",
     "output_type": "stream",
     "text": [
      "tensor([2., 2., 2., 2., 2.])\n"
     ]
    }
   ],
   "source": [
    "if torch.cuda.is_available():\n",
    "    device = torch.device(\"cuda\")\n",
    "    x = torch.ones(5, device=device)\n",
    "    y = torch.ones(5)\n",
    "    y = y.to(device)\n",
    "    z = x + y # gpu\n",
    "    z = z.to(\"cpu\")\n",
    "print(z)\n"
   ]
  },
  {
   "cell_type": "code",
   "execution_count": null,
   "metadata": {},
   "outputs": [],
   "source": []
  }
 ],
 "metadata": {
  "interpreter": {
   "hash": "05aa4a0894fb56ece01856f7516683026f4aaa5b6627bbdcc1349eb6b22dc5b4"
  },
  "kernelspec": {
   "display_name": "Python 3.9.12 ('tf-gpu')",
   "language": "python",
   "name": "python3"
  },
  "language_info": {
   "codemirror_mode": {
    "name": "ipython",
    "version": 3
   },
   "file_extension": ".py",
   "mimetype": "text/x-python",
   "name": "python",
   "nbconvert_exporter": "python",
   "pygments_lexer": "ipython3",
   "version": "3.9.7"
  },
  "orig_nbformat": 4
 },
 "nbformat": 4,
 "nbformat_minor": 2
}
