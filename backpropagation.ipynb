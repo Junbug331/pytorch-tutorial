{
 "cells": [
  {
   "cell_type": "markdown",
   "metadata": {},
   "source": [
    "<img src=\"computational_graph1.png\">"
   ]
  },
  {
   "cell_type": "markdown",
   "metadata": {},
   "source": [
    "<img src=\"computational_graph2.png\">"
   ]
  },
  {
   "cell_type": "markdown",
   "metadata": {},
   "source": [
    "1. Foward pass : Compute Loss\n",
    "2. Compute local gradients\n",
    "3. Backward pass : Compute $\\frac{\\partial \\text{Loss}}{\\partial \\text{weights}}$ using chain rule"
   ]
  },
  {
   "cell_type": "markdown",
   "metadata": {},
   "source": [
    "### Linear Regression Model\n",
    "$\\hat{y} = w \\vec{x}$\n",
    "$\\text{Loss} = (\\hat{y} - y)^2 = (w\\vec{x} -y)^2 $ \\\n",
    "<img src=\"process1.png\">"
   ]
  },
  {
   "cell_type": "markdown",
   "metadata": {},
   "source": [
    "\n",
    "$ x = 1, w = 1, y = 2 $\\\n",
    "$ \\hat{y} = xw = 1 \\cdot 1  = 1 $\\\n",
    "$ s = \\hat{y} - y = 1 - 2 = -1 $\\\n",
    "$ Loss = s^2 = (-1)^2 = 1 $\n",
    "\n",
    "### Local Gradients \n",
    "$\\frac{\\partial Loss}{\\partial s} = \\frac{\\partial s^2}{\\partial s} = 2s$\\\n",
    "\\\n",
    "$\\frac{\\partial s}{\\partial \\hat{y}} = \\frac{\\partial(\\hat{y} - y)}{\\partial \\hat{y}} = 1$\\\n",
    "\\\n",
    "$\\frac{\\hat{y}}{\\partial w} = \\frac{\\partial wx}{\\partial w} = x$\n",
    "\n",
    "### Chain Rule\n",
    "$\\frac{\\partial Loss}{\\partial \\hat{y}} =\\frac{\\partial Loss}{\\partial s} \\cdot \\frac{\\partial s}{\\partial \\hat{y}} = 2s \\cdot 1 = -2 $\\\n",
    "\\\n",
    "$\\frac{\\partial Loss}{\\partial w} = \\frac{\\partial Loss}{\\partial \\hat{y}} \\cdot \\frac{\\hat{y}}{\\partial w} = 2s \\cdot x = -2 \\cdot 1 = -2$\n"
   ]
  },
  {
   "cell_type": "code",
   "execution_count": 3,
   "metadata": {},
   "outputs": [
    {
     "name": "stdout",
     "output_type": "stream",
     "text": [
      "tensor(1., grad_fn=<PowBackward0>)\n",
      "tensor(-2.)\n"
     ]
    }
   ],
   "source": [
    "import torch\n",
    "\n",
    "x = torch.tensor(1.0)\n",
    "y = torch.tensor(2.0)\n",
    "\n",
    "w = torch.tensor(1.0, requires_grad=True)\n",
    "\n",
    "# forward pass and compute the loss\n",
    "y_hat = w * x\n",
    "loss = (y_hat - y)**2\n",
    "\n",
    "print(loss)\n",
    "\n",
    "# backward pass\n",
    "loss.backward() # whole gradient computation\n",
    "print(w.grad) # d_loss / d_w\n",
    "\n",
    "### update weight\n",
    "### next forward and backward"
   ]
  },
  {
   "cell_type": "code",
   "execution_count": null,
   "metadata": {},
   "outputs": [],
   "source": []
  }
 ],
 "metadata": {
  "interpreter": {
   "hash": "05aa4a0894fb56ece01856f7516683026f4aaa5b6627bbdcc1349eb6b22dc5b4"
  },
  "kernelspec": {
   "display_name": "Python 3.9.12 ('tf-gpu')",
   "language": "python",
   "name": "python3"
  },
  "language_info": {
   "codemirror_mode": {
    "name": "ipython",
    "version": 3
   },
   "file_extension": ".py",
   "mimetype": "text/x-python",
   "name": "python",
   "nbconvert_exporter": "python",
   "pygments_lexer": "ipython3",
   "version": "3.9.7"
  },
  "orig_nbformat": 4
 },
 "nbformat": 4,
 "nbformat_minor": 2
}
