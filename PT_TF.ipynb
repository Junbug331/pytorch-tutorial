{
 "cells": [
  {
   "cell_type": "code",
   "execution_count": 3,
   "metadata": {},
   "outputs": [
    {
     "data": {
      "text/plain": [
       "'1.11.0'"
      ]
     },
     "execution_count": 3,
     "metadata": {},
     "output_type": "execute_result"
    }
   ],
   "source": [
    "%matplotlib inline\n",
    "\n",
    "from __future__ import print_function\n",
    "\n",
    "import torch\n",
    "torch.__version__"
   ]
  },
  {
   "cell_type": "markdown",
   "metadata": {},
   "source": [
    "초기화 되지 않은 5X3 행렬"
   ]
  },
  {
   "cell_type": "code",
   "execution_count": 4,
   "metadata": {},
   "outputs": [
    {
     "name": "stdout",
     "output_type": "stream",
     "text": [
      "tensor([[-1.7742e-21,  4.5846e-41,  1.4135e-15,  3.0798e-41],\n",
      "        [ 4.4842e-44,  0.0000e+00,  1.5695e-43,  0.0000e+00],\n",
      "        [ 1.4172e-15,  3.0798e-41,  0.0000e+00,  0.0000e+00],\n",
      "        [ 1.4132e-15,  3.0798e-41,  6.5438e-16,  3.0798e-41],\n",
      "        [-3.0823e-26,  4.5845e-41,  1.4013e-45,  0.0000e+00]])\n"
     ]
    }
   ],
   "source": [
    "x = torch.empty(5, 4)\n",
    "print(x)"
   ]
  },
  {
   "cell_type": "markdown",
   "metadata": {},
   "source": [
    "무작위로 초기화된 행렬 생성"
   ]
  },
  {
   "cell_type": "code",
   "execution_count": 5,
   "metadata": {},
   "outputs": [
    {
     "name": "stdout",
     "output_type": "stream",
     "text": [
      "tensor([[ 0.0906,  0.4170,  0.5249],\n",
      "        [ 0.9487, -1.8633,  0.0686],\n",
      "        [ 0.1454,  0.9635, -1.1276],\n",
      "        [-0.7705, -0.2787, -0.7838],\n",
      "        [ 0.7154, -1.1057,  0.3650]])\n",
      "tensor([[0.2612, 0.5654, 0.8823],\n",
      "        [0.1032, 0.4935, 0.7090],\n",
      "        [0.3105, 0.4019, 0.2993],\n",
      "        [0.0675, 0.3846, 0.5816],\n",
      "        [0.0765, 0.1820, 0.6442]])\n"
     ]
    }
   ],
   "source": [
    "x = torch.randn(5, 3)\n",
    "print(x)\n",
    "x = torch.rand(5, 3)\n",
    "print(x)"
   ]
  },
  {
   "cell_type": "markdown",
   "metadata": {},
   "source": [
    "dtype = long, 0 matrix"
   ]
  },
  {
   "cell_type": "code",
   "execution_count": 2,
   "metadata": {},
   "outputs": [
    {
     "name": "stdout",
     "output_type": "stream",
     "text": [
      "tensor([[0, 0, 0],\n",
      "        [0, 0, 0],\n",
      "        [0, 0, 0],\n",
      "        [0, 0, 0],\n",
      "        [0, 0, 0]])\n"
     ]
    }
   ],
   "source": [
    "x = torch.zeros(5, 3, dtype=torch.long)\n",
    "print(x)"
   ]
  },
  {
   "cell_type": "code",
   "execution_count": 3,
   "metadata": {},
   "outputs": [
    {
     "name": "stdout",
     "output_type": "stream",
     "text": [
      "tensor([[1, 1, 1],\n",
      "        [1, 1, 1],\n",
      "        [1, 1, 1],\n",
      "        [1, 1, 1],\n",
      "        [1, 1, 1]])\n"
     ]
    }
   ],
   "source": [
    "x = torch.ones(5, 3, dtype=torch.long)\n",
    "print(x)"
   ]
  },
  {
   "cell_type": "markdown",
   "metadata": {},
   "source": [
    "데이터로부터 tensor를 직접 생성"
   ]
  },
  {
   "cell_type": "code",
   "execution_count": 5,
   "metadata": {},
   "outputs": [
    {
     "name": "stdout",
     "output_type": "stream",
     "text": [
      "tensor([5.5000, 3.0000])\n"
     ]
    }
   ],
   "source": [
    "x = torch.tensor([5.5, 3])\n",
    "print(x)"
   ]
  },
  {
   "cell_type": "markdown",
   "metadata": {},
   "source": [
    "존재하는 tensor를 바탕으로 tensor 생성"
   ]
  },
  {
   "cell_type": "code",
   "execution_count": 8,
   "metadata": {},
   "outputs": [
    {
     "name": "stdout",
     "output_type": "stream",
     "text": [
      "tensor([[-1.6573, -0.8755, -1.0433, -0.3262],\n",
      "        [-0.4608, -1.1088,  0.1856,  0.7608],\n",
      "        [ 1.7064, -0.4966,  1.4535, -0.2245],\n",
      "        [ 0.3101, -1.6569,  1.1901,  0.9657],\n",
      "        [ 1.5073, -0.1702, -1.3501,  0.1850]])\n",
      "torch.Size([5, 4])\n",
      "torch.Size([5, 4])\n"
     ]
    }
   ],
   "source": [
    "x = torch.ones(5, 4, dtype=torch.double)\n",
    "x = torch.randn_like(x, dtype=torch.float)\n",
    "print(x)\n",
    "print(x.size())\n",
    "print(x.shape)"
   ]
  },
  {
   "cell_type": "markdown",
   "metadata": {},
   "source": [
    "Addition "
   ]
  },
  {
   "cell_type": "code",
   "execution_count": 10,
   "metadata": {},
   "outputs": [
    {
     "name": "stdout",
     "output_type": "stream",
     "text": [
      "tensor([[-0.9934, -1.4195, -0.5691],\n",
      "        [-2.5662, -2.3345,  0.2224],\n",
      "        [ 0.3225, -0.0514, -0.0552],\n",
      "        [-2.7692, -0.6193,  0.1802],\n",
      "        [ 1.8278,  2.5970, -1.0278]])\n"
     ]
    }
   ],
   "source": [
    "x = torch.randn(5, 3, dtype=torch.float)\n",
    "y = torch.randn(5, 3, dtype=torch.float)\n",
    "print(x + y)"
   ]
  },
  {
   "cell_type": "code",
   "execution_count": 12,
   "metadata": {},
   "outputs": [
    {
     "name": "stdout",
     "output_type": "stream",
     "text": [
      "tensor([[-0.9934, -1.4195, -0.5691],\n",
      "        [-2.5662, -2.3345,  0.2224],\n",
      "        [ 0.3225, -0.0514, -0.0552],\n",
      "        [-2.7692, -0.6193,  0.1802],\n",
      "        [ 1.8278,  2.5970, -1.0278]])\n"
     ]
    }
   ],
   "source": [
    "print(torch.add(x, y))"
   ]
  },
  {
   "cell_type": "markdown",
   "metadata": {},
   "source": [
    "결과 tensor를 인자로 제공"
   ]
  },
  {
   "cell_type": "code",
   "execution_count": 15,
   "metadata": {},
   "outputs": [
    {
     "name": "stdout",
     "output_type": "stream",
     "text": [
      "tensor([[-6.4237e+04,  4.5859e-41, -8.3458e-07],\n",
      "        [ 3.0645e-41,  1.4013e-45,  0.0000e+00],\n",
      "        [ 0.0000e+00,  0.0000e+00,  0.0000e+00],\n",
      "        [ 0.0000e+00,  0.0000e+00,  0.0000e+00],\n",
      "        [-8.3967e-07,  3.0645e-41, -3.8912e-07]])\n",
      "tensor([[-0.9934, -1.4195, -0.5691],\n",
      "        [-2.5662, -2.3345,  0.2224],\n",
      "        [ 0.3225, -0.0514, -0.0552],\n",
      "        [-2.7692, -0.6193,  0.1802],\n",
      "        [ 1.8278,  2.5970, -1.0278]])\n"
     ]
    }
   ],
   "source": [
    "result = torch.empty(5, 3)\n",
    "print(result)\n",
    "\n",
    "torch.add(x, y, out=result)\n",
    "print(result)"
   ]
  },
  {
   "cell_type": "markdown",
   "metadata": {},
   "source": [
    "in place"
   ]
  },
  {
   "cell_type": "code",
   "execution_count": 17,
   "metadata": {},
   "outputs": [
    {
     "name": "stdout",
     "output_type": "stream",
     "text": [
      "tensor([[-0.9934, -1.4195, -0.5691],\n",
      "        [-2.5662, -2.3345,  0.2224],\n",
      "        [ 0.3225, -0.0514, -0.0552],\n",
      "        [-2.7692, -0.6193,  0.1802],\n",
      "        [ 1.8278,  2.5970, -1.0278]])\n",
      "tensor([[-1.7836, -1.6803, -0.6461],\n",
      "        [-3.6684, -4.0817, -0.5140],\n",
      "        [ 0.6371, -0.1803, -0.4017],\n",
      "        [-5.4994, -0.6135,  0.3468],\n",
      "        [ 3.2573,  3.1384, -1.0146]])\n"
     ]
    }
   ],
   "source": [
    "print(y)\n",
    "y.add_(x)\n",
    "print(y)"
   ]
  },
  {
   "cell_type": "markdown",
   "metadata": {},
   "source": [
    "Note that in-place use `_` as a prefix"
   ]
  },
  {
   "cell_type": "code",
   "execution_count": 24,
   "metadata": {},
   "outputs": [
    {
     "name": "stdout",
     "output_type": "stream",
     "text": [
      "tensor([[-0.7902, -0.2608, -0.0769],\n",
      "        [-1.1021, -1.7472, -0.7364],\n",
      "        [ 0.3146, -0.1290, -0.3465],\n",
      "        [-2.7301,  0.0058,  0.1666],\n",
      "        [ 1.4295,  0.5414,  0.0132]])\n",
      "tensor([-0.2608, -1.7472, -0.1290,  0.0058,  0.5414])\n"
     ]
    }
   ],
   "source": [
    "print(x)\n",
    "print(x[:, 1])"
   ]
  },
  {
   "cell_type": "markdown",
   "metadata": {},
   "source": [
    "### Resize / Reshape"
   ]
  },
  {
   "cell_type": "code",
   "execution_count": 26,
   "metadata": {},
   "outputs": [
    {
     "name": "stdout",
     "output_type": "stream",
     "text": [
      "tensor([[-0.6744, -1.0493, -0.9698,  2.1672],\n",
      "        [ 1.0424,  0.1161, -0.2055, -1.4820],\n",
      "        [-0.8757, -0.2865,  0.9476, -2.0753],\n",
      "        [ 1.2477,  0.0060,  0.2987,  0.6485]])\n",
      "tensor([-0.6744, -1.0493, -0.9698,  2.1672,  1.0424,  0.1161, -0.2055, -1.4820,\n",
      "        -0.8757, -0.2865,  0.9476, -2.0753,  1.2477,  0.0060,  0.2987,  0.6485])\n",
      "tensor([[-0.6744, -1.0493],\n",
      "        [-0.9698,  2.1672],\n",
      "        [ 1.0424,  0.1161],\n",
      "        [-0.2055, -1.4820],\n",
      "        [-0.8757, -0.2865],\n",
      "        [ 0.9476, -2.0753],\n",
      "        [ 1.2477,  0.0060],\n",
      "        [ 0.2987,  0.6485]])\n",
      "torch.Size([16]) torch.Size([8, 2])\n"
     ]
    }
   ],
   "source": [
    "x = torch.randn(4, 4)\n",
    "print(x)\n",
    "\n",
    "y = x.view(16)\n",
    "z = y.view(-1, 2) # the size -1 is inferred from other dimension\n",
    "print(y)\n",
    "print(z)\n",
    "print(y.size(), z.size())"
   ]
  },
  {
   "cell_type": "markdown",
   "metadata": {},
   "source": [
    "만약 tensor에 하나의 값만 존재한다면 `item()`를 통해 숫자 값을 얻을 수 있다."
   ]
  },
  {
   "cell_type": "code",
   "execution_count": 27,
   "metadata": {},
   "outputs": [
    {
     "name": "stdout",
     "output_type": "stream",
     "text": [
      "tensor([-0.4667])\n",
      "<class 'torch.Tensor'> <class 'float'>\n",
      "-0.46669885516166687\n"
     ]
    }
   ],
   "source": [
    "x = torch.randn(1)\n",
    "print(x)\n",
    "print(type(x), type(x.item()))\n",
    "print(x.item())\n"
   ]
  },
  {
   "cell_type": "markdown",
   "metadata": {},
   "source": [
    "## Numpy 변환\n",
    "CPU 상의 Torch tensor와 Numpy배열 공간은 저장 공간을 공유하기 때문에 하나를 변경하면 다른 하나도 변경됩니다.\n",
    "- Torch Tensor를 NumPy배열로 변환하기"
   ]
  },
  {
   "cell_type": "code",
   "execution_count": 28,
   "metadata": {},
   "outputs": [
    {
     "name": "stdout",
     "output_type": "stream",
     "text": [
      "tensor([1., 1., 1., 1., 1.])\n"
     ]
    }
   ],
   "source": [
    "a = torch.ones(5)\n",
    "print(a)"
   ]
  },
  {
   "cell_type": "code",
   "execution_count": 29,
   "metadata": {},
   "outputs": [
    {
     "name": "stdout",
     "output_type": "stream",
     "text": [
      "[1. 1. 1. 1. 1.]\n"
     ]
    }
   ],
   "source": [
    "b = a.numpy()\n",
    "print(b)"
   ]
  },
  {
   "cell_type": "code",
   "execution_count": 30,
   "metadata": {},
   "outputs": [
    {
     "name": "stdout",
     "output_type": "stream",
     "text": [
      "tensor([2., 2., 2., 2., 2.])\n",
      "[2. 2. 2. 2. 2.]\n"
     ]
    }
   ],
   "source": [
    "a.add_(1)\n",
    "print(a)\n",
    "print(b)"
   ]
  },
  {
   "cell_type": "code",
   "execution_count": 32,
   "metadata": {},
   "outputs": [
    {
     "name": "stdout",
     "output_type": "stream",
     "text": [
      "tensor([3., 3., 3., 3., 3.])\n",
      "[2. 2. 2. 2. 2.]\n"
     ]
    }
   ],
   "source": [
    "temp = a.clone()\n",
    "temp_numpy = temp.numpy()\n",
    "\n",
    "a.add_(1)\n",
    "print(a)\n",
    "print(temp_numpy)"
   ]
  },
  {
   "cell_type": "markdown",
   "metadata": {},
   "source": [
    "## CUDA Tensors\n",
    ".to 메소드를 사용하여 Tensor를 어떠한 장치로도 옮길 수 있다."
   ]
  },
  {
   "cell_type": "code",
   "execution_count": 35,
   "metadata": {},
   "outputs": [
    {
     "name": "stdout",
     "output_type": "stream",
     "text": [
      "tensor([[1., 1., 1., 1.],\n",
      "        [1., 1., 1., 1.],\n",
      "        [1., 1., 1., 1.],\n",
      "        [1., 1., 1., 1.]], device='cuda:0')\n",
      "tensor([[1.5241, 1.3103, 1.2818, 1.2985],\n",
      "        [1.5337, 1.3225, 1.1908, 1.4600],\n",
      "        [1.3852, 1.0130, 1.1681, 1.3172],\n",
      "        [1.7379, 1.4716, 1.5377, 1.6011]], device='cuda:0')\n",
      "tensor([[1.5241, 1.3103, 1.2818, 1.2985],\n",
      "        [1.5337, 1.3225, 1.1908, 1.4600],\n",
      "        [1.3852, 1.0130, 1.1681, 1.3172],\n",
      "        [1.7379, 1.4716, 1.5377, 1.6011]], dtype=torch.float64)\n"
     ]
    }
   ],
   "source": [
    "import torch\n",
    "\n",
    "x = torch.rand(4,4)\n",
    "\n",
    "if torch.cuda.is_available():\n",
    "    device = \"cuda:0\"\n",
    "    y = torch.ones_like(x, device=device)\n",
    "    print(y)\n",
    "    \n",
    "    x = x.to(device) # x -> gpu\n",
    "    z = x + y # z -> gpu\n",
    "    print(z)\n",
    "    print(z.to(\"cpu\", torch.double)) # z -> cpu"
   ]
  },
  {
   "cell_type": "code",
   "execution_count": 37,
   "metadata": {},
   "outputs": [
    {
     "name": "stdout",
     "output_type": "stream",
     "text": [
      "tensor([[0.5241, 0.3103, 0.2818, 0.2985],\n",
      "        [0.5337, 0.3225, 0.1908, 0.4600],\n",
      "        [0.3852, 0.0130, 0.1681, 0.3172],\n",
      "        [0.7379, 0.4716, 0.5377, 0.6011]], device='cuda:0')\n"
     ]
    }
   ],
   "source": [
    "x = x.cuda()\n",
    "print(x)"
   ]
  },
  {
   "cell_type": "code",
   "execution_count": null,
   "metadata": {},
   "outputs": [],
   "source": []
  }
 ],
 "metadata": {
  "kernelspec": {
   "display_name": "Python 3 (ipykernel)",
   "language": "python",
   "name": "python3"
  },
  "language_info": {
   "codemirror_mode": {
    "name": "ipython",
    "version": 3
   },
   "file_extension": ".py",
   "mimetype": "text/x-python",
   "name": "python",
   "nbconvert_exporter": "python",
   "pygments_lexer": "ipython3",
   "version": "3.9.7"
  }
 },
 "nbformat": 4,
 "nbformat_minor": 2
}
